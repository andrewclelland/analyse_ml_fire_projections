{
 "cells": [
  {
   "cell_type": "markdown",
   "id": "03e68158-7385-4756-b5b6-f323f1c4b8e2",
   "metadata": {},
   "source": [
    "Generic Notebook loading and checking each background shapefile or GeoTIFF file.\n",
    "\n",
    "Also find land cover per ecoregion"
   ]
  },
  {
   "cell_type": "code",
   "execution_count": null,
   "id": "dccbecde-d267-47a0-bb10-5456fefb44cb",
   "metadata": {},
   "outputs": [],
   "source": [
    "import rasterio\n",
    "import numpy as np\n",
    "import pandas as pd\n",
    "import matplotlib.pyplot as plt\n",
    "import cartopy.crs as ccrs\n",
    "import xarray as xr\n",
    "from matplotlib.colors import ListedColormap, BoundaryNorm\n",
    "import geopandas as gpd\n",
    "from shapely.geometry import MultiPolygon\n",
    "import warnings\n",
    "warnings.filterwarnings(\"ignore\")"
   ]
  },
  {
   "cell_type": "code",
   "execution_count": null,
   "id": "62bf4f93-e0b0-4306-8b40-ba7c073c553d",
   "metadata": {},
   "outputs": [],
   "source": [
    "import ee\n",
    "ee.Authenticate()\n",
    "ee.Initialize(project='spherical-berm-323321')"
   ]
  },
  {
   "cell_type": "markdown",
   "id": "10aadc05-7bd6-4c18-95f8-a27869c98a68",
   "metadata": {
    "jp-MarkdownHeadingCollapsed": true
   },
   "source": [
    "## Load and view land cover TIFF file"
   ]
  },
  {
   "cell_type": "code",
   "execution_count": null,
   "id": "98240ad4-2f2a-4fe4-a5ec-3234604e3256",
   "metadata": {},
   "outputs": [],
   "source": [
    "# Path to your TIFF file\n",
    "tif_path = '/home/users/clelland/Model/Analysis/land_cover_g1.tif'\n",
    "\n",
    "with rasterio.open(tif_path) as src:\n",
    "    print(\"Raster shape from src: \", src.height, src.width)\n",
    "    print(\"Raster count (bands):\", src.count)\n",
    "\n",
    "    # Step 2: Read the first band (this SHOULD return a 2D array)\n",
    "    data = src.read(1)  # Band 1\n",
    "    print(\"Data shape after reading:\", data.shape)\n",
    "\n",
    "    # Step 3: Get metadata\n",
    "    transform = src.transform\n",
    "    bounds = src.bounds\n",
    "    nodata = src.nodata\n",
    "\n",
    "# Step 4: Check if masking is needed\n",
    "if nodata is not None:\n",
    "    data = np.ma.masked_equal(data, nodata)\n",
    "\n",
    "# Step 5: Confirm shape before plotting\n",
    "if data.ndim != 2:\n",
    "    raise ValueError(f\"Expected 2D array, got shape {data.shape}\")\n",
    "\n",
    "# Get unique values\n",
    "unique_values = np.unique(data)\n",
    "\n",
    "print(\"Unique classes in the TIFF:\")\n",
    "print(unique_values)"
   ]
  },
  {
   "cell_type": "code",
   "execution_count": null,
   "id": "7e32e650-bb0f-4d34-a576-02cbb8d75d52",
   "metadata": {},
   "outputs": [],
   "source": [
    "cmap = ListedColormap(['brown', 'green', 'blue', 'yellow', 'red',\n",
    "                       'purple', 'orange', 'cyan', 'gray'])\n",
    "\n",
    "# Define projection for polar map (approximate for NSIDC EASE-Grid North)\n",
    "proj = ccrs.LambertAzimuthalEqualArea(central_latitude=90, central_longitude=0)\n",
    "\n",
    "# Plot\n",
    "fig, ax = plt.subplots(figsize=(10, 10), subplot_kw={'projection': proj})\n",
    "extent = [bounds.left, bounds.right, bounds.bottom, bounds.top]\n",
    "\n",
    "# Plot the data with the custom color map\n",
    "img = ax.imshow(data, extent=extent, origin='upper', transform=proj,\n",
    "                cmap=cmap, interpolation='none')\n",
    "\n",
    "# Add map features\n",
    "ax.coastlines()\n",
    "ax.gridlines(draw_labels=False)\n",
    "plt.title(\"Land Cover Map (EASE-Grid North Projection)\")\n",
    "\n",
    "# Add a colorbar with labels (optional: map the class numbers to labels)\n",
    "cbar = plt.colorbar(img, ax=ax, shrink=0.6, label=\"Land cover class\")\n",
    "\n",
    "plt.tight_layout()\n",
    "plt.show()"
   ]
  },
  {
   "cell_type": "markdown",
   "id": "defcfa2a-cd11-4a5d-84ee-49a4b69eca5e",
   "metadata": {
    "jp-MarkdownHeadingCollapsed": true
   },
   "source": [
    "## Load land cover shapefile"
   ]
  },
  {
   "cell_type": "code",
   "execution_count": null,
   "id": "18786651-4898-48d3-b433-2f62cc3ab5e1",
   "metadata": {},
   "outputs": [],
   "source": [
    "# Load shapefile (replace with the path to your shapefile)\n",
    "shp_path = '/home/users/clelland/Model/Analysis/TEM Land cover shapefile/TEM Land cover.shp'\n",
    "gdf = gpd.read_file(shp_path)\n",
    "\n",
    "# Extract unique 'gridcode' values for land cover types\n",
    "class_values = sorted(gdf['gridcode'].unique())  # Make sure these are in sorted order\n",
    "print(class_values)"
   ]
  },
  {
   "cell_type": "code",
   "execution_count": null,
   "id": "c64f2003-702f-4469-b70e-c3fb9a5eb033",
   "metadata": {},
   "outputs": [],
   "source": [
    "cmap = ListedColormap(['brown', 'green', 'blue', 'yellow', 'red',\n",
    "                       'purple', 'orange', 'cyan', 'gray'])\n",
    "\n",
    "# Create a BoundaryNorm to map gridcode values to color map\n",
    "norm = BoundaryNorm(boundaries=class_values, ncolors=cmap.N)\n",
    "\n",
    "# Define projection for polar map (approximate for NSIDC EASE-Grid North)\n",
    "proj = ccrs.LambertAzimuthalEqualArea(central_latitude=90, central_longitude=0)\n",
    "\n",
    "# Plot the shapefile\n",
    "fig, ax = plt.subplots(figsize=(10, 10), subplot_kw={'projection': proj})\n",
    "gdf.plot(ax=ax, column='gridcode', cmap=cmap, legend=True,\n",
    "         legend_kwds={'label': \"Land cover class\", 'orientation': \"horizontal\"},\n",
    "         norm=norm)\n",
    "\n",
    "# Add coastlines and gridlines\n",
    "ax.coastlines()\n",
    "ax.gridlines(draw_labels=False)\n",
    "\n",
    "# Adjust the plot layout\n",
    "plt.title(\"Land Cover Map from Shapefile (EASE-Grid North Projection)\")\n",
    "plt.tight_layout()\n",
    "plt.show()"
   ]
  },
  {
   "cell_type": "markdown",
   "id": "c30375b7-e187-4b58-be19-d9ff6be5d764",
   "metadata": {
    "jp-MarkdownHeadingCollapsed": true
   },
   "source": [
    "## Load geographical shapefiles"
   ]
  },
  {
   "cell_type": "code",
   "execution_count": null,
   "id": "0dae8418-c638-43b6-9e76-e1e19f47014a",
   "metadata": {},
   "outputs": [],
   "source": [
    "# Load shapefile (replace with the path to your shapefile)\n",
    "shp_path = '/home/users/clelland/Model/Analysis/Countries shapefile/world-administrative-boundaries.shp'\n",
    "gdf = gpd.read_file(shp_path)\n",
    "#selected_countries = gdf[gdf['name'].isin(['Sweden', 'Finland', 'Norway', 'Iceland', 'Greenland'])]\n",
    "#selected_countries = gdf[gdf['name'].isin(['Russian Federation'])]\n",
    "#selected_countries = gdf[gdf['name'].isin(['Canada'])]\n",
    "\n",
    "# Treat Alaska separately\n",
    "usa_geom = gdf[gdf['iso3'] == 'USA'].geometry.values[0]\n",
    "if isinstance(usa_geom, MultiPolygon):\n",
    "    multipolys = list(usa_geom.geoms)\n",
    "else:\n",
    "    multipolys = [usa_geom]\n",
    "alaska_polys = [poly for poly in multipolys if poly.bounds[1] > 50]\n",
    "alaska_gdf = gpd.GeoDataFrame(geometry=alaska_polys, crs=gdf.crs)"
   ]
  },
  {
   "cell_type": "code",
   "execution_count": null,
   "id": "3eeb8771-52e0-4395-95cd-ada2c11bc6dc",
   "metadata": {},
   "outputs": [],
   "source": [
    "# Plot\n",
    "fig, ax = plt.subplots(figsize=(8, 10))\n",
    "#selected_countries.plot(ax=ax, edgecolor='black', color='lightblue')\n",
    "alaska_gdf.plot(ax=ax, edgecolor='black', color='lightblue')\n",
    "\n",
    "# Add country names\n",
    "#for idx, row in selected_countries.iterrows():\n",
    "#    centroid = row['geometry'].centroid\n",
    "#    ax.text(centroid.x, centroid.y, row['name'], ha='center', fontsize=10)\n",
    "\n",
    "ax.set_title(\"Alaska\")\n",
    "plt.axis('equal')\n",
    "plt.show()"
   ]
  },
  {
   "cell_type": "markdown",
   "id": "8295bd83-1905-4eeb-90a2-25ea4464d2fb",
   "metadata": {
    "jp-MarkdownHeadingCollapsed": true
   },
   "source": [
    "## Load ecoregion shapefile"
   ]
  },
  {
   "cell_type": "markdown",
   "id": "c78e6004-a5d5-440c-8db1-f54309532de9",
   "metadata": {},
   "source": [
    "### Dinerstein"
   ]
  },
  {
   "cell_type": "markdown",
   "id": "8bc77f4f-2fdc-44ac-a93c-4a3ef2d81989",
   "metadata": {
    "jp-MarkdownHeadingCollapsed": true
   },
   "source": [
    "#### GEE"
   ]
  },
  {
   "cell_type": "code",
   "execution_count": null,
   "id": "4d501d9e-31df-4bbe-918a-5dd2b44fdf01",
   "metadata": {},
   "outputs": [],
   "source": [
    "# Load the ecoregions\n",
    "ecoRegions = ee.FeatureCollection('RESOLVE/ECOREGIONS/2017')\n",
    "\n",
    "# Apply filters\n",
    "biome_filter = ee.Filter.inList('BIOME_NUM', [6, 11])\n",
    "realm_filter = ee.Filter.inList('REALM', ['Nearctic', 'Palearctic'])\n",
    "combined_filter = ee.Filter.And(biome_filter, realm_filter)\n",
    "selected_regions = ecoRegions.filter(combined_filter)\n",
    "region_list = selected_regions.toList(selected_regions.size())"
   ]
  },
  {
   "cell_type": "code",
   "execution_count": null,
   "id": "a0b30530-f895-411f-adfb-7659104b45f5",
   "metadata": {
    "scrolled": true
   },
   "outputs": [],
   "source": [
    "# Function to compute area in Mha\n",
    "def compute_area(feature):\n",
    "    area_m2 = feature.geometry().area()\n",
    "    area_mha = area_m2.divide(1e10)\n",
    "    return feature.set('area_Mha', area_mha)\n",
    "\n",
    "# Map the area computation over the FeatureCollection\n",
    "regions_with_area = selected_regions.map(compute_area)\n",
    "\n",
    "# Export or print results\n",
    "# Option 1: Print in Python (client side)\n",
    "region_list = regions_with_area.getInfo()\n",
    "for f in region_list['features']:\n",
    "    name = f['properties']['ECO_NAME']\n",
    "    area = f['properties']['area_Mha']\n",
    "    print(f\"{name}: {area:.8f} Mha\")\n",
    "\n",
    "# Extract data to a list of dictionaries\n",
    "data = []\n",
    "for f in region_list['features']:\n",
    "    props = f['properties']\n",
    "    data.append({\n",
    "        'ECO_NAME': props['ECO_NAME'],\n",
    "        'BIOME_NUM': props['BIOME_NUM'],\n",
    "        'REALM': props['REALM'],\n",
    "        'area_Mha': props['area_Mha']\n",
    "    })\n",
    "\n",
    "# Convert to DataFrame\n",
    "df = pd.DataFrame(data)\n",
    "df\n",
    "\n",
    "# Save to CSV\n",
    "#df.to_csv('/home/users/clelland/Model/Analysis/ecoregion_area.csv', index=False)"
   ]
  },
  {
   "cell_type": "code",
   "execution_count": null,
   "id": "242d4b6b-ac8a-488e-89c7-6870957a4cc7",
   "metadata": {},
   "outputs": [],
   "source": [
    "df = pd.read_csv('/home/users/clelland/Model/Analysis/ecoregion_area.csv')\n",
    "df"
   ]
  },
  {
   "cell_type": "markdown",
   "id": "3fe9854a-9ea9-4822-8b76-e148d6d8b7ab",
   "metadata": {
    "jp-MarkdownHeadingCollapsed": true
   },
   "source": [
    "#### Shapefile"
   ]
  },
  {
   "cell_type": "code",
   "execution_count": null,
   "id": "f9ce3c18-4272-4dcd-872d-5c60a7668a55",
   "metadata": {
    "scrolled": true
   },
   "outputs": [],
   "source": [
    "shp_path = '/home/users/clelland/Model/Analysis/RESOLVE shapefile from GEE/resolve_shapefile_from_gee.shp'\n",
    "gdf = gpd.read_file(shp_path)\n",
    "gdf = gdf.to_crs(epsg=6931)\n",
    "selected_ecoregions = gdf[\n",
    "    gdf['BIOME_NAME'].isin(['Boreal Forests/Taiga', 'Tundra'])]\n",
    "\n",
    "# Extract unique ecoregions\n",
    "class_values = sorted(selected_ecoregions['ECO_NAME'].unique())\n",
    "#print(class_values)\n",
    "selected_ecoregions.sort_values(by=['BIOME_NUM', 'ECO_NAME'])"
   ]
  },
  {
   "cell_type": "code",
   "execution_count": null,
   "id": "779aece0-b909-4640-a1ef-e50b5194d582",
   "metadata": {},
   "outputs": [],
   "source": [
    "# Plot\n",
    "fig, ax = plt.subplots(figsize=(10, 10))\n",
    "selected_ecoregions.plot(ax=ax, edgecolor='black', color='lightblue')\n",
    "\n",
    "ax.set_title(\"All ecoregions\")\n",
    "plt.axis('equal')\n",
    "plt.show()"
   ]
  },
  {
   "cell_type": "markdown",
   "id": "df2a938c-5e02-4e31-ba2a-8787a0039b7b",
   "metadata": {
    "jp-MarkdownHeadingCollapsed": true
   },
   "source": [
    "#### RESOLVE extra shapefile"
   ]
  },
  {
   "cell_type": "code",
   "execution_count": null,
   "id": "97765054-9c64-4afe-84b8-005687dcfcca",
   "metadata": {},
   "outputs": [],
   "source": [
    "#shp_path = '/home/users/clelland/Model/Analysis/RESOLVE extra shapefile/selected_resolve_regions.shp'\n",
    "shp_path = '/home/users/clelland/Model/Analysis/RESOLVE extra shapefile/kalste_shapefile.shp'\n",
    "gdf = gpd.read_file(shp_path)\n",
    "selected_ecoregions = gdf[\n",
    "    gdf['BIOME_NAME'].isin(['Boreal Forests/Taiga', 'Tundra'])]\n",
    "\n",
    "# Extract unique ecoregions\n",
    "class_values = sorted(selected_ecoregions['geometry'].unique())\n",
    "print(class_values)\n",
    "selected_ecoregions.sort_values(by=['BIOME_NUM', 'ECO_NAME'])"
   ]
  },
  {
   "cell_type": "code",
   "execution_count": null,
   "id": "911facbe-10f3-4043-87fd-883d122486d3",
   "metadata": {},
   "outputs": [],
   "source": [
    "# Plot\n",
    "fig, ax = plt.subplots(figsize=(10, 3))\n",
    "selected_ecoregions.plot(ax=ax, edgecolor='black', color='lightblue')\n",
    "\n",
    "ax.set_title(\"All ecoregions\")\n",
    "plt.axis('equal')\n",
    "plt.show()"
   ]
  },
  {
   "cell_type": "markdown",
   "id": "fe63901b-d855-4467-b191-dd7827782d13",
   "metadata": {
    "jp-MarkdownHeadingCollapsed": true
   },
   "source": [
    "### Olson"
   ]
  },
  {
   "cell_type": "code",
   "execution_count": null,
   "id": "181e3d7e-62fd-4c65-bdf3-ae0ea9ab2b31",
   "metadata": {},
   "outputs": [],
   "source": [
    "shp_path = '/home/users/clelland/Model/Analysis/WWF shapefile/wwf_terr_ecos.shp'\n",
    "gdf = gpd.read_file(shp_path)\n",
    "selected_ecoregions = gdf[\n",
    "    gdf['BIOME'].isin([6.0, 11.0]) &\n",
    "    gdf['REALM'].isin(['PA', 'NA'])]\n",
    "\n",
    "# Extract unique ecoregions\n",
    "class_values = sorted(selected_ecoregions['ECO_NAME'].unique())\n",
    "print(class_values)\n",
    "selected_ecoregions"
   ]
  },
  {
   "cell_type": "markdown",
   "id": "371de0ac-562e-457b-9751-68524cf7ea1d",
   "metadata": {
    "jp-MarkdownHeadingCollapsed": true
   },
   "source": [
    "## Load and view FRI TIFF files"
   ]
  },
  {
   "cell_type": "code",
   "execution_count": null,
   "id": "8e93397b-81e7-4d6a-bd7d-e7651242c6f3",
   "metadata": {},
   "outputs": [],
   "source": [
    "# Path to your TIFF file\n",
    "tif_path = '/home/users/clelland/Model/Analysis/fri_firecci_landcover_1972_2020.tif'\n",
    "\n",
    "with rasterio.open(tif_path) as src:\n",
    "    print(\"Raster shape from src: \", src.height, src.width)\n",
    "    print(\"Raster count (bands):\", src.count)\n",
    "\n",
    "    # Step 2: Read the first band (this SHOULD return a 2D array)\n",
    "    data = src.read(1)  # Band 1\n",
    "    print(\"Data shape after reading:\", data.shape)\n",
    "\n",
    "    # Step 3: Get metadata\n",
    "    transform = src.transform\n",
    "    bounds = src.bounds\n",
    "    nodata = src.nodata\n",
    "\n",
    "# Step 4: Check if masking is needed\n",
    "if nodata is not None:\n",
    "    data = np.ma.masked_equal(data, nodata)\n",
    "\n",
    "# Step 5: Confirm shape before plotting\n",
    "if data.ndim != 2:\n",
    "    raise ValueError(f\"Expected 2D array, got shape {data.shape}\")\n",
    "\n",
    "# Divide values by 365 (as per instruction)\n",
    "data_scaled = data / 365.0\n",
    "\n",
    "# Define class bins and labels\n",
    "bins = [60/365, 100/365, 200/365, 300/365, 400/365, 500/365, 600/365, np.inf]\n",
    "class_map = np.digitize(data_scaled, bins)\n",
    "\n",
    "# Mask the classified array wherever the original data was nodata\n",
    "class_map_masked = np.ma.masked_where(data.mask, class_map)"
   ]
  },
  {
   "cell_type": "code",
   "execution_count": null,
   "id": "6cd70332-51a6-4e6c-a7f6-6e1ea4f6d70b",
   "metadata": {},
   "outputs": [],
   "source": [
    "# Define a color map with 7 distinct colors\n",
    "cmap = ListedColormap(['#ffffcc', '#c2e699', '#78c679', '#31a354',\n",
    "                       '#006837', '#253494', '#54278f'])\n",
    "norm = BoundaryNorm(boundaries=range(8), ncolors=cmap.N)\n",
    "\n",
    "# Define projection\n",
    "proj = ccrs.LambertAzimuthalEqualArea(central_latitude=90, central_longitude=0)\n",
    "extent = [bounds.left, bounds.right, bounds.bottom, bounds.top]\n",
    "\n",
    "# Plotting\n",
    "fig, ax = plt.subplots(figsize=(10, 10), subplot_kw={'projection': proj})\n",
    "img = ax.imshow(class_map_masked, extent=extent, origin='upper', transform=proj,\n",
    "                cmap=cmap, norm=norm, interpolation='none')\n",
    "\n",
    "ax.coastlines()\n",
    "ax.gridlines(draw_labels=False)\n",
    "plt.title(\"FRI map with grouped land cover classes\")\n",
    "\n",
    "# Add colorbar with labels matching bins\n",
    "cbar = plt.colorbar(img, ax=ax, shrink=0.6, ticks=range(7))\n",
    "cbar.ax.set_yticklabels([\n",
    "    \"60–100\", \"100–200\", \"200–300\", \"300–400\", \"400–500\", \"500–600\", \">600\"\n",
    "])\n",
    "cbar.set_label(\"FRI (days)\")\n",
    "\n",
    "plt.tight_layout()\n",
    "plt.show()"
   ]
  },
  {
   "cell_type": "code",
   "execution_count": null,
   "id": "87ac9f32-2c00-4af5-9367-934d55307b29",
   "metadata": {},
   "outputs": [],
   "source": [
    "# Path to your TIFF file\n",
    "tif_path = '/home/users/clelland/Model/Analysis/fri_firecci_no_landcover_1972_2020.tif'\n",
    "\n",
    "with rasterio.open(tif_path) as src:\n",
    "    print(\"Raster shape from src: \", src.height, src.width)\n",
    "    print(\"Raster count (bands):\", src.count)\n",
    "\n",
    "    # Step 2: Read the first band (this SHOULD return a 2D array)\n",
    "    data = src.read(1)  # Band 1\n",
    "    print(\"Data shape after reading:\", data.shape)\n",
    "\n",
    "    # Step 3: Get metadata\n",
    "    transform = src.transform\n",
    "    bounds = src.bounds\n",
    "    nodata = src.nodata\n",
    "\n",
    "# Step 4: Check if masking is needed\n",
    "if nodata is not None:\n",
    "    data = np.ma.masked_equal(data, nodata)\n",
    "\n",
    "# Step 5: Confirm shape before plotting\n",
    "if data.ndim != 2:\n",
    "    raise ValueError(f\"Expected 2D array, got shape {data.shape}\")\n",
    "\n",
    "# Divide values by 365 (as per instruction)\n",
    "data_scaled = data / 365.0\n",
    "\n",
    "# Define class bins and labels\n",
    "bins = [60/365, 100/365, 200/365, 300/365, 400/365, 500/365, 600/365, np.inf]\n",
    "class_map = np.digitize(data_scaled, bins)\n",
    "\n",
    "# Mask the classified array wherever the original data was nodata\n",
    "class_map_masked = np.ma.masked_where(data.mask, class_map)"
   ]
  },
  {
   "cell_type": "code",
   "execution_count": null,
   "id": "fc8173c4-b629-4ee0-ad8e-71348e7ba83f",
   "metadata": {},
   "outputs": [],
   "source": [
    "# Define a color map with 7 distinct colors\n",
    "cmap = ListedColormap(['#ffffcc', '#c2e699', '#78c679', '#31a354',\n",
    "                       '#006837', '#253494', '#54278f'])\n",
    "norm = BoundaryNorm(boundaries=range(8), ncolors=cmap.N)\n",
    "\n",
    "# Define projection\n",
    "proj = ccrs.LambertAzimuthalEqualArea(central_latitude=90, central_longitude=0)\n",
    "extent = [bounds.left, bounds.right, bounds.bottom, bounds.top]\n",
    "\n",
    "# Plotting\n",
    "fig, ax = plt.subplots(figsize=(10, 10), subplot_kw={'projection': proj})\n",
    "img = ax.imshow(class_map_masked, extent=extent, origin='upper', transform=proj,\n",
    "                cmap=cmap, norm=norm, interpolation='none')\n",
    "\n",
    "ax.coastlines()\n",
    "ax.gridlines(draw_labels=False)\n",
    "plt.title(\"FRI map without grouped land cover\")\n",
    "\n",
    "# Add colorbar with labels matching bins\n",
    "cbar = plt.colorbar(img, ax=ax, shrink=0.6, ticks=range(7))\n",
    "cbar.ax.set_yticklabels([\n",
    "    \"60–100\", \"100–200\", \"200–300\", \"300–400\", \"400–500\", \"500–600\", \">600\"\n",
    "])\n",
    "cbar.set_label(\"FRI (days)\")\n",
    "\n",
    "plt.tight_layout()\n",
    "plt.show()"
   ]
  },
  {
   "cell_type": "markdown",
   "id": "1c6db946-6e52-4f8f-ba33-10c89e2a6fec",
   "metadata": {
    "jp-MarkdownHeadingCollapsed": true
   },
   "source": [
    "## Land cover by ecoregion"
   ]
  },
  {
   "cell_type": "markdown",
   "id": "722d0e12-8fcc-4573-b25d-494fe3e2b477",
   "metadata": {
    "jp-MarkdownHeadingCollapsed": true
   },
   "source": [
    "### Process"
   ]
  },
  {
   "cell_type": "code",
   "execution_count": null,
   "id": "db32e1a1-1a28-482d-8675-dbd22b4cc4d7",
   "metadata": {},
   "outputs": [],
   "source": [
    "# Load ecoregions\n",
    "ecoRegions = ee.FeatureCollection('RESOLVE/ECOREGIONS/2017')\n",
    "\n",
    "# Apply filters\n",
    "biome_filter = ee.Filter.inList('BIOME_NUM', [6, 11])\n",
    "realm_filter = ee.Filter.inList('REALM', ['Nearctic', 'Palearctic'])\n",
    "combined_filter = ee.Filter.And(biome_filter, realm_filter)\n",
    "selected_regions = ecoRegions.filter(combined_filter)\n",
    "region_list = selected_regions.toList(selected_regions.size())\n",
    "\n",
    "# Load the land cover image\n",
    "land_cover = ee.Image('users/andyc97/model_shapefiles/TEM_LandCover_Map_V3_Grouped_V1')\n",
    "\n",
    "# Get all unique land cover classes you care about\n",
    "landcover_classes = [110, 120, 130, 140, 150, 160, 170, 180, 190]\n",
    "\n",
    "# Create an empty list to collect results\n",
    "results = []\n",
    "\n",
    "# Loop through each region\n",
    "for i in range(region_list.size().getInfo()):\n",
    "    if i == 27:\n",
    "        continue\n",
    "    feature = ee.Feature(region_list.get(i))\n",
    "\n",
    "    # Special naming\n",
    "    if i == 5:\n",
    "        eco_name = 'Eastern Canadian Shield taiga'\n",
    "        short_name = 'eashti'\n",
    "    elif i == 19:\n",
    "        eco_name = 'Northeast Siberian taiga'\n",
    "        short_name = 'nesibta'\n",
    "    elif i == 45:\n",
    "        eco_name = 'Kalaallit Nunaat Arctic steppe'\n",
    "        short_name = 'kalste'\n",
    "    else:\n",
    "        eco_name = feature.get('ECO_NAME').getInfo()\n",
    "        words = eco_name.split()\n",
    "        short_name = (words[0][:4] + words[1][:3]).lower() if len(words) >= 2 else words[0][:7].lower()\n",
    "\n",
    "    print(f\"Processing region: {eco_name} -> {short_name}\")\n",
    "\n",
    "    # Mask the land cover to the feature\n",
    "    masked_lc = land_cover.select('remapped').clip(feature)\n",
    "\n",
    "    # Count the number of pixels for each land cover class\n",
    "    class_counts = masked_lc.reduceRegion(\n",
    "        reducer=ee.Reducer.frequencyHistogram().unweighted(),\n",
    "        geometry=feature.geometry(),\n",
    "        scale=4000,\n",
    "        maxPixels=1e8\n",
    "    ).getInfo()\n",
    "\n",
    "    histogram = class_counts.get('remapped', {}) if class_counts else {}\n",
    "\n",
    "    total_pixels = sum(histogram.values())\n",
    "    if total_pixels == 0:\n",
    "        print(f\"No land cover pixels found in {eco_name}. Skipping.\")\n",
    "        continue\n",
    "\n",
    "    # Calculate percentage for each land cover class\n",
    "    row = {'region': short_name}\n",
    "    raw_percentages = []\n",
    "    for lc_class in landcover_classes:\n",
    "        try:\n",
    "            count = histogram.get(str(lc_class), 0)\n",
    "            raw_percentage = (count / total_pixels) * 100\n",
    "            raw_percentages.append(raw_percentage)\n",
    "            row[lc_class] = round(raw_percentage, 2)\n",
    "        except ZeroDivisionError:\n",
    "            # In case of division by zero, set percentage to 0\n",
    "            row[lc_class] = 0\n",
    "            raw_percentages.append(0)\n",
    "\n",
    "    # Adjust percentages to sum to 100 if needed\n",
    "    total_percentage = sum(raw_percentages)\n",
    "    if total_percentage != 100:\n",
    "        adjustment_factor = 100 / total_percentage if total_percentage > 0 else 1\n",
    "        for lc_class, percentage in zip(landcover_classes, raw_percentages):\n",
    "            row[lc_class] = round(percentage * adjustment_factor, 2)\n",
    "\n",
    "    results.append(row)\n",
    "\n",
    "# Turn into a pandas DataFrame\n",
    "df = pd.DataFrame(results)\n",
    "\n",
    "df.to_csv('/home/users/clelland/Model/Analysis/ecoregion_landcover_percentages.csv', index=False)\n",
    "df"
   ]
  },
  {
   "cell_type": "markdown",
   "id": "543ff78b-896c-4f04-b750-543e967f5741",
   "metadata": {
    "jp-MarkdownHeadingCollapsed": true
   },
   "source": [
    "### Read in from CSV"
   ]
  },
  {
   "cell_type": "code",
   "execution_count": null,
   "id": "849a6fba-ea45-4699-8f03-f209986617e6",
   "metadata": {
    "scrolled": true
   },
   "outputs": [],
   "source": [
    "df = pd.read_csv('/home/users/clelland/Model/Analysis/ecoregion_landcover_percentages.csv', index_col='region')\n",
    "rename_dict = {\n",
    "    '110': 'Deciduous forests',\n",
    "    '120': 'Coniferous forests',\n",
    "    '130': 'Mixed forest',\n",
    "    '140': 'Shrublands',\n",
    "    '150': 'Herbaceous',\n",
    "    '160': 'Barrens',\n",
    "    '170': 'Wetlands',\n",
    "    '180': 'Shrub tundra',\n",
    "    '190': 'Other'\n",
    "}\n",
    "df.rename(columns=rename_dict, inplace=True)\n",
    "df"
   ]
  },
  {
   "cell_type": "markdown",
   "id": "c23fd055-7d7d-4d71-9a46-f4209043c41a",
   "metadata": {
    "jp-MarkdownHeadingCollapsed": true
   },
   "source": [
    "#### By geographical region"
   ]
  },
  {
   "cell_type": "code",
   "execution_count": null,
   "id": "2d6f50fc-efba-4861-a0c3-38d6d8318c97",
   "metadata": {
    "scrolled": true
   },
   "outputs": [],
   "source": [
    "# North America only\n",
    "df_plot = df.copy().reset_index()\n",
    "df_plot = df_plot[df_plot['geo'] == 'NAM']\n",
    "\n",
    "# Sort rows by 'region' alphabetically\n",
    "df_plot = df_plot.sort_values('region')\n",
    "\n",
    "# Define which columns to plot (exclude 'region' and 'geo')\n",
    "plot_columns = [col for col in df_plot.columns if col not in ['region', 'geo']]\n",
    "\n",
    "# Plot a stacked bar chart\n",
    "ax = df_plot.set_index('region')[plot_columns].plot(\n",
    "    kind='bar',\n",
    "    stacked=True,\n",
    "    figsize=(10, 7),\n",
    "    colormap='tab10'\n",
    ")\n",
    "\n",
    "# Add labels and title\n",
    "ax.set_ylabel('Percentage of Land Cover (%)')\n",
    "ax.set_title('Land Cover Distribution by Ecoregion (North America)')\n",
    "plt.xticks(rotation=45, ha='right')\n",
    "plt.legend(title='Land Cover Classes', bbox_to_anchor=(1.05, 1), loc='upper left')\n",
    "\n",
    "# Show the plot\n",
    "plt.tight_layout()\n",
    "#plt.savefig('/home/users/clelland/Model/Analysis/Land cover plots/landcover_by_eco_NA.png', dpi=300, bbox_inches='tight', transparent=True)\n",
    "plt.show()"
   ]
  },
  {
   "cell_type": "code",
   "execution_count": null,
   "id": "5b0de967-8f07-4b50-8652-717cda289fa9",
   "metadata": {
    "scrolled": true
   },
   "outputs": [],
   "source": [
    "# Eurasia only\n",
    "df_plot = df.copy().reset_index()\n",
    "df_plot = df_plot[df_plot['geo'] == 'EU']\n",
    "\n",
    "# Sort rows by 'region' alphabetically\n",
    "df_plot = df_plot.sort_values('region')\n",
    "\n",
    "# Define which columns to plot (exclude 'region' and 'geo')\n",
    "plot_columns = [col for col in df_plot.columns if col not in ['region', 'geo']]\n",
    "\n",
    "# Plot a stacked bar chart\n",
    "ax = df_plot.set_index('region')[plot_columns].plot(\n",
    "    kind='bar',\n",
    "    stacked=True,\n",
    "    figsize=(10, 7),\n",
    "    colormap='tab10'\n",
    ")\n",
    "\n",
    "# Add labels and title\n",
    "ax.set_ylabel('Percentage of Land Cover (%)')\n",
    "ax.set_title('Land Cover Distribution by Ecoregion (Eurasia)')\n",
    "plt.xticks(rotation=45, ha='right')\n",
    "plt.legend(title='Land Cover Classes', bbox_to_anchor=(1.05, 1), loc='upper left')\n",
    "\n",
    "# Show the plot\n",
    "plt.tight_layout()\n",
    "#plt.savefig('/home/users/clelland/Model/Analysis/Land cover plots/landcover_by_eco_EU.png', dpi=300, bbox_inches='tight', transparent=True)\n",
    "plt.show()"
   ]
  },
  {
   "cell_type": "code",
   "execution_count": null,
   "id": "83414eb3-4ce0-41b0-8f61-23191e6fab33",
   "metadata": {
    "scrolled": true
   },
   "outputs": [],
   "source": [
    "# Fennoscandia only\n",
    "df_plot = df.copy().reset_index()\n",
    "df_plot = df_plot[df_plot['geo'] == 'FS']\n",
    "\n",
    "# Sort rows by 'region' alphabetically\n",
    "df_plot = df_plot.sort_values('region')\n",
    "\n",
    "# Define which columns to plot (exclude 'region' and 'geo')\n",
    "plot_columns = [col for col in df_plot.columns if col not in ['region', 'geo']]\n",
    "\n",
    "# Plot a stacked bar chart\n",
    "ax = df_plot.set_index('region')[plot_columns].plot(\n",
    "    kind='bar',\n",
    "    stacked=True,\n",
    "    figsize=(10, 7),\n",
    "    colormap='tab10'\n",
    ")\n",
    "\n",
    "# Add labels and title\n",
    "ax.set_ylabel('Percentage of Land Cover (%)')\n",
    "ax.set_title('Land Cover Distribution by Ecoregion (Fennoscandia)')\n",
    "plt.xticks(rotation=45, ha='right')\n",
    "plt.legend(title='Land Cover Classes', bbox_to_anchor=(1.05, 1), loc='upper left')\n",
    "\n",
    "# Show the plot\n",
    "plt.tight_layout()\n",
    "#plt.savefig('/home/users/clelland/Model/Analysis/Land cover plots/landcover_by_eco_FS.png', dpi=300, bbox_inches='tight', transparent=True)\n",
    "plt.show()"
   ]
  },
  {
   "cell_type": "markdown",
   "id": "7e1abe39-bed5-4fe8-a432-b0a7047b3a24",
   "metadata": {
    "jp-MarkdownHeadingCollapsed": true
   },
   "source": [
    "#### By biome"
   ]
  },
  {
   "cell_type": "code",
   "execution_count": null,
   "id": "0eadb2b0-b11c-478f-a3ae-09be4dcecb4c",
   "metadata": {},
   "outputs": [],
   "source": [
    "# Boreal biome only\n",
    "# Make a copy and reset index to access region as a column\n",
    "df_plot = df.copy().reset_index()\n",
    "df_plot = df_plot.sort_index(ascending=False)\n",
    "\n",
    "# Add a region number column based on original row order (starting from 1)\n",
    "#df_plot['region_number'] = df_plot.index + 1\n",
    "\n",
    "# Filter for Boreal biome\n",
    "df_plot = df_plot[df_plot['biome'] == 'BO']\n",
    "\n",
    "# Sort by region number to preserve original order\n",
    "#df_plot = df_plot.sort_values('region_number', ascending=False)\n",
    "\n",
    "# Define columns to plot (exclude 'region', 'geo', 'biome', and 'region_number')\n",
    "plot_columns = [col for col in df_plot.columns if col not in ['region', 'geo', 'biome', 'region_number']]\n",
    "\n",
    "# Plot stacked bar chart with region numbers as x-axis labels\n",
    "#ax = df_plot.set_index('region_number')[plot_columns].plot(\n",
    "ax = df_plot.set_index('region')[plot_columns].plot(\n",
    "    kind='barh',\n",
    "    stacked=True,\n",
    "    figsize=(10, 12),\n",
    "    colormap='tab10'\n",
    ")\n",
    "\n",
    "# Label and title\n",
    "ax.set_xlabel('Percentage of Land Cover (%)')\n",
    "ax.set_title('Land Cover Distribution by Region Number (Boreal biome)')\n",
    "plt.xticks(rotation=0, ha='center')\n",
    "plt.ylabel('Region Name')\n",
    "plt.legend(title='Land Cover Classes', bbox_to_anchor=(0.5, -0.2), loc='lower center', ncol=3)\n",
    "\n",
    "# Final layout\n",
    "plt.tight_layout()\n",
    "#plt.savefig('/home/users/clelland/Model/Analysis/Land cover plots/landcover_by_eco_boreal_horiz.png', dpi=300, bbox_inches='tight', transparent=True)\n",
    "plt.show()"
   ]
  },
  {
   "cell_type": "code",
   "execution_count": null,
   "id": "4574170b-40d5-48d0-9e08-2747e5370754",
   "metadata": {},
   "outputs": [],
   "source": [
    "# Tundra biome only\n",
    "# Make a copy and reset index to access region as a column\n",
    "df_plot = df.copy().reset_index()\n",
    "df_plot = df_plot.sort_index(ascending=False)\n",
    "\n",
    "# Add a region number column based on original row order (starting from 1)\n",
    "#df_plot['region_number'] = df_plot.index + 1\n",
    "\n",
    "# Filter for Boreal biome\n",
    "df_plot = df_plot[df_plot['biome'] == 'TU']\n",
    "\n",
    "# Sort by region number to preserve original order\n",
    "#df_plot = df_plot.sort_values('region_number', ascending=False)\n",
    "\n",
    "# Define columns to plot (exclude 'region', 'geo', 'biome', and 'region_number')\n",
    "plot_columns = [col for col in df_plot.columns if col not in ['region', 'geo', 'biome', 'region_number']]\n",
    "\n",
    "# Plot stacked bar chart with region numbers as x-axis labels\n",
    "#ax = df_plot.set_index('region_number')[plot_columns].plot(\n",
    "ax = df_plot.set_index('region')[plot_columns].plot(\n",
    "    kind='barh',\n",
    "    stacked=True,\n",
    "    figsize=(10, 12),\n",
    "    colormap='tab10'\n",
    ")\n",
    "\n",
    "# Label and title\n",
    "ax.set_xlabel('Percentage of Land Cover (%)')\n",
    "ax.set_title('Land Cover Distribution by Region Number (Tundra biome)')\n",
    "plt.xticks(rotation=0, ha='center')\n",
    "plt.ylabel('Region Name')\n",
    "plt.legend(title='Land Cover Classes', bbox_to_anchor=(0.5, -0.2), loc='lower center', ncol=3)\n",
    "\n",
    "# Final layout\n",
    "plt.tight_layout()\n",
    "#plt.savefig('/home/users/clelland/Model/Analysis/Land cover plots/landcover_by_eco_tundra_horiz.png', dpi=300, bbox_inches='tight', transparent=True)\n",
    "plt.show()"
   ]
  }
 ],
 "metadata": {
  "kernelspec": {
   "display_name": "Python 3 + Jaspy",
   "language": "python",
   "name": "jaspy"
  },
  "language_info": {
   "codemirror_mode": {
    "name": "ipython",
    "version": 3
   },
   "file_extension": ".py",
   "mimetype": "text/x-python",
   "name": "python",
   "nbconvert_exporter": "python",
   "pygments_lexer": "ipython3",
   "version": "3.11.9"
  }
 },
 "nbformat": 4,
 "nbformat_minor": 5
}
