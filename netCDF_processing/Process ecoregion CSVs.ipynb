{
 "cells": [
  {
   "cell_type": "markdown",
   "id": "10c116db-16a4-4bfb-bbb7-2435805b2876",
   "metadata": {},
   "source": [
    "Notebook to process the individual scenario burned area csv files to one master file for each ecoregion.\n",
    "\n",
    "The code box to run depends on the location of the ecoregion."
   ]
  },
  {
   "cell_type": "code",
   "execution_count": null,
   "id": "555942fb-9101-4f7e-b8e2-119cbcea576d",
   "metadata": {},
   "outputs": [],
   "source": [
    "import pandas as pd"
   ]
  },
  {
   "cell_type": "markdown",
   "id": "4e5592f6-3f80-4da5-9706-fa8a0f37c525",
   "metadata": {},
   "source": [
    "## Process CSVs to single file"
   ]
  },
  {
   "cell_type": "code",
   "execution_count": null,
   "id": "85ec45e8-06ef-457f-9f18-16822779be93",
   "metadata": {},
   "outputs": [],
   "source": [
    "# Standard regions\n",
    "# Define file paths and corresponding column names\n",
    "code = 'kalste'\n",
    "files  = {\n",
    "    'access 126': f'/home/users/clelland/Model/Analysis/Ecoregion plots/area_timeseries_eco_{code}_access_ssp126.csv',\n",
    "    'access 245': f'/home/users/clelland/Model/Analysis/Ecoregion plots/area_timeseries_eco_{code}_access_ssp245.csv',\n",
    "    'access 370': f'/home/users/clelland/Model/Analysis/Ecoregion plots/area_timeseries_eco_{code}_access_ssp370.csv',\n",
    "    'mri 126':    f'/home/users/clelland/Model/Analysis/Ecoregion plots/area_timeseries_eco_{code}_mri_ssp126.csv',\n",
    "    'mri 245':    f'/home/users/clelland/Model/Analysis/Ecoregion plots/area_timeseries_eco_{code}_mri_ssp245.csv',\n",
    "    'mri 370':    f'/home/users/clelland/Model/Analysis/Ecoregion plots/area_timeseries_eco_{code}_mri_ssp370.csv'\n",
    "}\n",
    "\n",
    "# Read and rename each dataframe\n",
    "dataframes = []\n",
    "for name, path in files.items():\n",
    "    df = pd.read_csv(path, index_col='time')\n",
    "    df = df.rename(columns={\"burned_area_Mha\": name})\n",
    "    dataframes.append(df)\n",
    "\n",
    "# Combine all dataframes along columns\n",
    "combined_df = pd.concat(dataframes, axis=1)\n",
    "print(combined_df)\n",
    "\n",
    "combined_df.to_csv(f\"/home/users/clelland/Model/Analysis/Ecoregion plots combined/area_timeseries_{code}_all.csv\")"
   ]
  },
  {
   "cell_type": "code",
   "execution_count": null,
   "id": "2b40f181-183f-42b6-9ced-a6352e8c5b73",
   "metadata": {},
   "outputs": [],
   "source": [
    "# Both Eurasia and South Siberia regions\n",
    "# cherski, eastsib, nesibta, trzbald, westsib\n",
    "# Define file paths and corresponding column names\n",
    "code = 'westsib'\n",
    "files  = {\n",
    "    'access 126': f'/home/users/clelland/Model/Analysis/Ecoregion plots/Individual CSVs/area_timeseries_eco_{code}_access_ssp126.csv',\n",
    "    'access 245': f'/home/users/clelland/Model/Analysis/Ecoregion plots/Individual CSVs/area_timeseries_eco_{code}_access_ssp245.csv',\n",
    "    'access 370': f'/home/users/clelland/Model/Analysis/Ecoregion plots/Individual CSVs/area_timeseries_eco_{code}_access_ssp370.csv',\n",
    "    'mri 126':    f'/home/users/clelland/Model/Analysis/Ecoregion plots/Individual CSVs/area_timeseries_eco_{code}_mri_ssp126.csv',\n",
    "    'mri 245':    f'/home/users/clelland/Model/Analysis/Ecoregion plots/Individual CSVs/area_timeseries_eco_{code}_mri_ssp245.csv',\n",
    "    'mri 370':    f'/home/users/clelland/Model/Analysis/Ecoregion plots/Individual CSVs/area_timeseries_eco_{code}_mri_ssp370.csv',\n",
    "    'access 126 SS': f'/home/users/clelland/Model/Analysis/Ecoregion plots/Individual CSVs/area_timeseries_eco_{code}_access_ssp126_sousib.csv',\n",
    "    'access 245 SS': f'/home/users/clelland/Model/Analysis/Ecoregion plots/Individual CSVs/area_timeseries_eco_{code}_access_ssp245_sousib.csv',\n",
    "    'access 370 SS': f'/home/users/clelland/Model/Analysis/Ecoregion plots/Individual CSVs/area_timeseries_eco_{code}_access_ssp370_sousib.csv',\n",
    "    'mri 126 SS':    f'/home/users/clelland/Model/Analysis/Ecoregion plots/Individual CSVs/area_timeseries_eco_{code}_mri_ssp126_sousib.csv',\n",
    "    'mri 245 SS':    f'/home/users/clelland/Model/Analysis/Ecoregion plots/Individual CSVs/area_timeseries_eco_{code}_mri_ssp245_sousib.csv',\n",
    "    'mri 370 SS':    f'/home/users/clelland/Model/Analysis/Ecoregion plots/Individual CSVs/area_timeseries_eco_{code}_mri_ssp370_sousib.csv'\n",
    "}\n",
    "\n",
    "# Read and store all files with appropriate column names\n",
    "dataframes = {}\n",
    "for name, path in files.items():\n",
    "    df = pd.read_csv(path, index_col='time')\n",
    "    # Divide non-sousib files by 16\n",
    "    if not name.endswith('SS'):\n",
    "        df['burned_area_Mha'] = df['burned_area_Mha'] / 16.0\n",
    "    df = df.rename(columns={'burned_area_Mha': name})\n",
    "    dataframes[name] = df\n",
    "\n",
    "# Combine into one DataFrame\n",
    "combined_df = pd.concat(dataframes.values(), axis=1)\n",
    "\n",
    "# Sum SS columns into the corresponding base columns\n",
    "for col in list(combined_df.columns):\n",
    "    if col.endswith('SS'):\n",
    "        base_col = col.replace(' SS', '')\n",
    "        if base_col in combined_df.columns:\n",
    "            combined_df[base_col] += combined_df[col]\n",
    "        combined_df.drop(columns=col, inplace=True)\n",
    "\n",
    "print(combined_df)\n",
    "\n",
    "combined_df.to_csv(f\"/home/users/clelland/Model/Analysis/Ecoregion plots combined/area_timeseries_{code}_all.csv\")"
   ]
  },
  {
   "cell_type": "code",
   "execution_count": null,
   "id": "01159b21-fb75-4ddf-a8bf-f1b4f72f663c",
   "metadata": {},
   "outputs": [],
   "source": [
    "# South Siberia only regions\n",
    "# okhman, trzconf\n",
    "# Define file paths and corresponding column names\n",
    "code = 'trzconf'\n",
    "files  = {\n",
    "    'access 126': f'/home/users/clelland/Model/Analysis/Ecoregion plots/area_timeseries_eco_{code}_access_ssp126_sousib.csv',\n",
    "    'access 245': f'/home/users/clelland/Model/Analysis/Ecoregion plots/area_timeseries_eco_{code}_access_ssp245_sousib.csv',\n",
    "    'access 370': f'/home/users/clelland/Model/Analysis/Ecoregion plots/area_timeseries_eco_{code}_access_ssp370_sousib.csv',\n",
    "    'mri 126':    f'/home/users/clelland/Model/Analysis/Ecoregion plots/area_timeseries_eco_{code}_mri_ssp126_sousib.csv',\n",
    "    'mri 245':    f'/home/users/clelland/Model/Analysis/Ecoregion plots/area_timeseries_eco_{code}_mri_ssp245_sousib.csv',\n",
    "    'mri 370':    f'/home/users/clelland/Model/Analysis/Ecoregion plots/area_timeseries_eco_{code}_mri_ssp370_sousib.csv'\n",
    "}\n",
    "\n",
    "# Read and rename each dataframe\n",
    "dataframes = []\n",
    "for name, path in files.items():\n",
    "    df = pd.read_csv(path, index_col='time')\n",
    "    df = df.rename(columns={\"burned_area_Mha\": name})\n",
    "    dataframes.append(df)\n",
    "\n",
    "# Combine all dataframes along columns\n",
    "combined_df = pd.concat(dataframes, axis=1)\n",
    "print(combined_df)\n",
    "\n",
    "combined_df.to_csv(f\"/home/users/clelland/Model/Analysis/Ecoregion plots combined/area_timeseries_{code}_all.csv\")"
   ]
  }
 ],
 "metadata": {
  "kernelspec": {
   "display_name": "Python 3 + Jaspy",
   "language": "python",
   "name": "jaspy"
  },
  "language_info": {
   "codemirror_mode": {
    "name": "ipython",
    "version": 3
   },
   "file_extension": ".py",
   "mimetype": "text/x-python",
   "name": "python",
   "nbconvert_exporter": "python",
   "pygments_lexer": "ipython3",
   "version": "3.11.9"
  }
 },
 "nbformat": 4,
 "nbformat_minor": 5
}
