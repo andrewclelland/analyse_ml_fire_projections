{
 "cells": [
  {
   "cell_type": "markdown",
   "id": "9453a53f-4c94-45ed-9a3e-d8167cb54731",
   "metadata": {},
   "source": [
    "There is an issue with the processing code when processing future data: it will include previous iterations rather than just the current iteration. As such it is necessary to shorten the files to remove superfluous information.\n",
    "\n",
    "Edit as necessary"
   ]
  },
  {
   "cell_type": "code",
   "execution_count": null,
   "id": "bd9b8348-a0de-4dc6-8c78-164365998876",
   "metadata": {},
   "outputs": [],
   "source": [
    "import os\n",
    "import pandas as pd"
   ]
  },
  {
   "cell_type": "code",
   "execution_count": null,
   "id": "0c3294cc-8e99-4e03-8053-8b19b5b33b25",
   "metadata": {},
   "outputs": [],
   "source": [
    "# Batch run for consistent indices\n",
    "# Path to the specific CSV\n",
    "file_path = '/home/users/clelland/Model/Analysis/CMIP and FWI time series/\\\n",
    "Ecoregion CSVs/access_ssp245_fwi_2015_2100_cookinl.csv'\n",
    "\n",
    "# Load the CSV\n",
    "df = pd.read_csv(file_path)\n",
    "\n",
    "# Select rows from index – 0-based indexing\n",
    "#df_shortened = df.iloc[168:336]\n",
    "df_shortened = df.iloc[1032:]\n",
    "\n",
    "# Overwrite the original file with the shortened DataFrame\n",
    "df_shortened.to_csv(file_path, index=False)\n",
    "\n",
    "print(f\"File overwritten: {file_path}\")"
   ]
  },
  {
   "cell_type": "code",
   "execution_count": null,
   "id": "9d95fc45-9b83-463c-8ac0-de50e09160ab",
   "metadata": {
    "scrolled": true
   },
   "outputs": [],
   "source": [
    "# Print the length of the all the csvs in a given folder\n",
    "# Define the folder path containing the .csv files\n",
    "folder_path = '/home/users/clelland/Model/Analysis/CMIP and FWI time series/Ecoregion CSVs/'\n",
    "\n",
    "# List to store file names and their lengths\n",
    "file_lengths = []\n",
    "\n",
    "# Iterate through each file in the folder\n",
    "for file_name in os.listdir(folder_path):\n",
    "    if file_name.endswith('.csv'):\n",
    "        file_path = os.path.join(folder_path, file_name)\n",
    "        try:\n",
    "            df = pd.read_csv(file_path)\n",
    "            file_lengths.append((file_name, len(df)))\n",
    "        except Exception as e:\n",
    "            print(f\"Error loading {file_name}: {e}\")\n",
    "\n",
    "# Sort by length, then filename\n",
    "file_lengths.sort(key=lambda x: (x[1], x[0]))\n",
    "\n",
    "# Print sorted results\n",
    "for file_name, length in file_lengths:\n",
    "    print(f\"Length of {file_name}: {length}\")"
   ]
  },
  {
   "cell_type": "code",
   "execution_count": null,
   "id": "f2ab1cc1-792c-4d2c-b5ca-0436d9bb52d7",
   "metadata": {},
   "outputs": [],
   "source": [
    "# Individual run for inconsistent indices\n",
    "# Path to the specific CSV\n",
    "file_path = '/home/users/clelland/Model/Analysis/CMIP and FWI time series/\\\n",
    "Ecoregion CSVs/mri_ssp245_climate_2015_2100_kalste.csv'\n",
    "\n",
    "# Load the CSV\n",
    "df = pd.read_csv(file_path)\n",
    "\n",
    "# Ensure the 'date' column is in datetime format\n",
    "df['date'] = pd.to_datetime(df['date'])\n",
    "\n",
    "# Find the indices of rows where the date is '2015-01-01'\n",
    "indices = df.index[df['date'] == '2015-01-01'].tolist()\n",
    "\n",
    "# Print the indices\n",
    "print(\"Indices where date is 2015-01-01:\", indices)\n",
    "\n",
    "# Select rows from index – 0-based indexing\n",
    "df_shortened = df.iloc[2063:]\n",
    "df_shortened"
   ]
  },
  {
   "cell_type": "code",
   "execution_count": null,
   "id": "1c181b06-8ae1-49b2-b8db-945c8a62caa0",
   "metadata": {},
   "outputs": [],
   "source": [
    "# Overwrite the original file with the shortened DataFrame\n",
    "df_shortened.to_csv(file_path, index=False)\n",
    "\n",
    "print(f\"File overwritten: {file_path}\")"
   ]
  },
  {
   "cell_type": "code",
   "execution_count": null,
   "id": "18a96a77-3d27-47ef-890d-8d8c5a1d19fc",
   "metadata": {},
   "outputs": [],
   "source": [
    "# Find dates where unique date values occur in either access or mri (based off original mri file)\n",
    "# Load the MRI DataFrame\n",
    "df_mri = pd.read_csv('/home/users/clelland/Model/Analysis/CMIP and FWI time series/Ecoregion CSVs/mri_climate_2001_2014_kalste.csv')\n",
    "\n",
    "# Count occurrences of each 'date' in the DataFrame\n",
    "date_counts = df_mri['date'].value_counts()\n",
    "\n",
    "# Filter the dates that appear only once\n",
    "unique_dates_df = df_mri[df_mri['date'].isin(date_counts[date_counts == 1].index)]\n",
    "unique_dates_df"
   ]
  },
  {
   "cell_type": "code",
   "execution_count": null,
   "id": "2f3336d4-f12c-4d4d-b917-35d8edd7c718",
   "metadata": {},
   "outputs": [],
   "source": [
    "# Edit dates if necessary\n",
    "# Load the mri DataFrame\n",
    "df_mri = pd.read_csv('/home/users/clelland/Model/Analysis/CMIP and FWI time series/Ecoregion CSVs/mri_climate_2001_2014_kalste.csv')\n",
    "\n",
    "# Convert the 'date' column to pandas datetime format\n",
    "df_mri['date'] = pd.to_datetime(df_mri['date'], format='%d/%m/%Y')\n",
    "\n",
    "# Save the updated DataFrame back to the CSV file\n",
    "df_mri.to_csv('/home/users/clelland/Model/Analysis/CMIP and FWI time series/Ecoregion CSVs/mri_climate_2001_2014_kalste.csv', index=False)\n",
    "\n",
    "print(\"Date column has been converted to pandas datetime format and saved.\")"
   ]
  },
  {
   "cell_type": "code",
   "execution_count": null,
   "id": "df16664a-e19e-4bc7-8799-d46594c217f3",
   "metadata": {},
   "outputs": [],
   "source": []
  }
 ],
 "metadata": {
  "kernelspec": {
   "display_name": "Python 3 + Jaspy",
   "language": "python",
   "name": "jaspy"
  },
  "language_info": {
   "codemirror_mode": {
    "name": "ipython",
    "version": 3
   },
   "file_extension": ".py",
   "mimetype": "text/x-python",
   "name": "python",
   "nbconvert_exporter": "python",
   "pygments_lexer": "ipython3",
   "version": "3.11.9"
  }
 },
 "nbformat": 4,
 "nbformat_minor": 5
}
