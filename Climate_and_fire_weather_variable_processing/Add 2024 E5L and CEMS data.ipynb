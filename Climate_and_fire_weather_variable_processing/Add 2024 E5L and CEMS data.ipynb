{
 "cells": [
  {
   "cell_type": "markdown",
   "id": "056d4865-7d09-4585-af83-28ed5b248e4a",
   "metadata": {},
   "source": [
    "Notebook to find and add data for December 2023 and the entirety of 2024 for each ecoregion"
   ]
  },
  {
   "cell_type": "code",
   "execution_count": null,
   "id": "041ce2f4-e1b9-4834-b04e-a09709ce04c9",
   "metadata": {},
   "outputs": [],
   "source": [
    "import pandas as pd"
   ]
  },
  {
   "cell_type": "code",
   "execution_count": null,
   "id": "e408f838-6c64-4ee9-b997-546c71284626",
   "metadata": {},
   "outputs": [],
   "source": [
    "# Load climate north\n",
    "df_e5l_north = pd.read_csv('/home/users/clelland/Model/Analysis/CMIP and FWI time series/CSV files/e5l_2001_2023_north.csv')\n",
    "df_e5l_south = pd.read_csv('/home/users/clelland/Model/Analysis/CMIP and FWI time series/CSV files/e5l_2001_2023_south.csv')\n",
    "df_cems_north = pd.read_csv('/home/users/clelland/Model/Analysis/CMIP and FWI time series/CSV files/cems_2001_2023_north.csv')\n",
    "df_cems_south = pd.read_csv('/home/users/clelland/Model/Analysis/CMIP and FWI time series/CSV files/cems_2001_2023_south.csv')"
   ]
  },
  {
   "cell_type": "code",
   "execution_count": null,
   "id": "93d2adf0-c648-432c-abb1-93cd4ba78d7e",
   "metadata": {},
   "outputs": [],
   "source": [
    "last_row = df_cems_north.tail(10)\n",
    "last_row"
   ]
  },
  {
   "cell_type": "code",
   "execution_count": null,
   "id": "175c6159-ead4-452d-bfa2-224198402a26",
   "metadata": {},
   "outputs": [],
   "source": [
    "region = 'kamctun'\n",
    "file_name = f'/home/users/clelland/Model/Analysis/CMIP and FWI time series/Ecoregion CSVs/{region}/e5l_2001_2023_{region}.csv'\n",
    "df = pd.read_csv(file_name)\n",
    "\n",
    "new_row = {'date': '2023-12-01', \n",
    "           'rh': 78.789981,\n",
    "           'tp': 0.075073,\n",
    "           'rlds': 205.032505, \n",
    "           'rsds': 22.564070, \n",
    "           'wsp': 1.369311, \n",
    "           't2m': 256.353837, \n",
    "           'mx2t': 270.354834,\n",
    "           'mn2t': 243.585499}\n",
    "\n",
    "df.loc[len(df)] = new_row\n",
    "df.to_csv(file_name, index=False)\n",
    "\n",
    "last_row = df.tail(13)\n",
    "#last_row"
   ]
  },
  {
   "cell_type": "code",
   "execution_count": null,
   "id": "d8058bf2-26f3-4d1d-8eec-f6697cce7489",
   "metadata": {},
   "outputs": [],
   "source": [
    "region = 'kamctun'\n",
    "file_name = f'/home/users/clelland/Model/Analysis/CMIP and FWI time series/Ecoregion CSVs/{region}/cems_2001_2023_{region}.csv'\n",
    "df = pd.read_csv(file_name)\n",
    "\n",
    "new_row = {'date': '2023-12-01', \n",
    "           'BUI': 0,\n",
    "           'DC': 0.206961, \n",
    "           'DMC': 0, \n",
    "           'FFMC': 37.718155, \n",
    "           'FWI': 0.047541, \n",
    "           'ISI': 0.236576}\n",
    "\n",
    "df.loc[len(df)] = new_row\n",
    "df.to_csv(file_name, index=False)\n",
    "\n",
    "last_row = df.tail(13)\n",
    "#last_row"
   ]
  },
  {
   "cell_type": "code",
   "execution_count": null,
   "id": "d9ab603b-582f-48c9-81e7-ed78804ed123",
   "metadata": {},
   "outputs": [],
   "source": []
  }
 ],
 "metadata": {
  "kernelspec": {
   "display_name": "Python 3 + Jaspy",
   "language": "python",
   "name": "jaspy"
  },
  "language_info": {
   "codemirror_mode": {
    "name": "ipython",
    "version": 3
   },
   "file_extension": ".py",
   "mimetype": "text/x-python",
   "name": "python",
   "nbconvert_exporter": "python",
   "pygments_lexer": "ipython3",
   "version": "3.11.9"
  }
 },
 "nbformat": 4,
 "nbformat_minor": 5
}
